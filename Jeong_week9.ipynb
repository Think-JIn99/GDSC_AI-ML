{
  "cells": [
    {
      "cell_type": "markdown",
      "metadata": {
        "id": "view-in-github",
        "colab_type": "text"
      },
      "source": [
        "<a href=\"https://colab.research.google.com/github/Think-JIn99/GDSC_AI-ML/blob/main/Jeong_week9.ipynb\" target=\"_parent\"><img src=\"https://colab.research.google.com/assets/colab-badge.svg\" alt=\"Open In Colab\"/></a>"
      ]
    },
    {
      "cell_type": "code",
      "execution_count": 1,
      "metadata": {
        "colab": {
          "base_uri": "https://localhost:8080/"
        },
        "id": "N5oH7_GUYIZM",
        "outputId": "bfd0c2bd-2696-4b3e-8cba-60c75348af57"
      },
      "outputs": [
        {
          "output_type": "stream",
          "name": "stdout",
          "text": [
            "Requirement already satisfied: gdrive_dataset in /usr/local/lib/python3.7/dist-packages (0.0.5)\n",
            "Requirement already satisfied: googledrivedownloader in /usr/local/lib/python3.7/dist-packages (from gdrive_dataset) (0.4)\n"
          ]
        }
      ],
      "source": [
        "!pip install gdrive_dataset"
      ]
    },
    {
      "cell_type": "code",
      "execution_count": 2,
      "metadata": {
        "colab": {
          "base_uri": "https://localhost:8080/"
        },
        "id": "IcJtkpwsZCfc",
        "outputId": "44367b47-15b3-43d6-f046-a5833873edd2"
      },
      "outputs": [
        {
          "output_type": "stream",
          "name": "stdout",
          "text": [
            "Collecting konlpy\n",
            "  Downloading konlpy-0.6.0-py2.py3-none-any.whl (19.4 MB)\n",
            "\u001b[K     |████████████████████████████████| 19.4 MB 1.2 MB/s \n",
            "\u001b[?25hRequirement already satisfied: lxml>=4.1.0 in /usr/local/lib/python3.7/dist-packages (from konlpy) (4.2.6)\n",
            "Requirement already satisfied: numpy>=1.6 in /usr/local/lib/python3.7/dist-packages (from konlpy) (1.19.5)\n",
            "Collecting JPype1>=0.7.0\n",
            "  Downloading JPype1-1.3.0-cp37-cp37m-manylinux_2_5_x86_64.manylinux1_x86_64.whl (448 kB)\n",
            "\u001b[K     |████████████████████████████████| 448 kB 71.6 MB/s \n",
            "\u001b[?25hRequirement already satisfied: typing-extensions in /usr/local/lib/python3.7/dist-packages (from JPype1>=0.7.0->konlpy) (3.10.0.2)\n",
            "Installing collected packages: JPype1, konlpy\n",
            "Successfully installed JPype1-1.3.0 konlpy-0.6.0\n"
          ]
        }
      ],
      "source": [
        "!pip install konlpy"
      ]
    },
    {
      "cell_type": "code",
      "source": [
        "!sudo apt-get install -y fonts-nanum\n",
        "!sudo fc-cache -fv\n",
        "!rm ~/.cache/matplotlib -rf"
      ],
      "metadata": {
        "colab": {
          "base_uri": "https://localhost:8080/"
        },
        "id": "nmRAxQHtjpjq",
        "outputId": "51cf4b94-8cdb-4813-c844-d7bf37a59ccf"
      },
      "execution_count": 3,
      "outputs": [
        {
          "output_type": "stream",
          "name": "stdout",
          "text": [
            "Reading package lists... Done\n",
            "Building dependency tree       \n",
            "Reading state information... Done\n",
            "fonts-nanum is already the newest version (20170925-1).\n",
            "0 upgraded, 0 newly installed, 0 to remove and 37 not upgraded.\n",
            "/usr/share/fonts: caching, new cache contents: 0 fonts, 1 dirs\n",
            "/usr/share/fonts/truetype: caching, new cache contents: 0 fonts, 3 dirs\n",
            "/usr/share/fonts/truetype/humor-sans: caching, new cache contents: 1 fonts, 0 dirs\n",
            "/usr/share/fonts/truetype/liberation: caching, new cache contents: 16 fonts, 0 dirs\n",
            "/usr/share/fonts/truetype/nanum: caching, new cache contents: 10 fonts, 0 dirs\n",
            "/usr/local/share/fonts: caching, new cache contents: 0 fonts, 0 dirs\n",
            "/root/.local/share/fonts: skipping, no such directory\n",
            "/root/.fonts: skipping, no such directory\n",
            "/var/cache/fontconfig: cleaning cache directory\n",
            "/root/.cache/fontconfig: not cleaning non-existent cache directory\n",
            "/root/.fontconfig: not cleaning non-existent cache directory\n",
            "fc-cache: succeeded\n"
          ]
        }
      ]
    },
    {
      "cell_type": "code",
      "execution_count": 4,
      "metadata": {
        "id": "5PNv4yE3Xytt"
      },
      "outputs": [],
      "source": [
        "import pandas as pd\n",
        "import numpy as np\n",
        "import matplotlib.pyplot as plt\n",
        "import os\n",
        "import re\n",
        "from konlpy.tag import Komoran\n",
        "from konlpy.tag import Kkma\n",
        "from sklearn.metrics import precision_recall_curve\n",
        "from sklearn.metrics import f1_score"
      ]
    },
    {
      "cell_type": "code",
      "execution_count": 5,
      "metadata": {
        "colab": {
          "base_uri": "https://localhost:8080/"
        },
        "id": "mH9O-5jYYU_N",
        "outputId": "54d8e422-9c4d-46c9-8942-969c5f1e4732"
      },
      "outputs": [
        {
          "output_type": "stream",
          "name": "stdout",
          "text": [
            "Downloading 1IbyL1762M0Lgoq7_qm2RaXfl3ney0e9i into ./dataset.zip... Done.\n",
            "========== files ============\n",
            "\n",
            "data/dataset\n",
            "\n",
            "=============================\n"
          ]
        }
      ],
      "source": [
        "from gdrivedataset import loader\n",
        "file_id = '1IbyL1762M0Lgoq7_qm2RaXfl3ney0e9i'\n",
        "loader.load_from_google_drive(file_id)\n",
        "DATA_DIR = 'data/dataset'"
      ]
    },
    {
      "cell_type": "code",
      "execution_count": 6,
      "metadata": {
        "colab": {
          "base_uri": "https://localhost:8080/"
        },
        "id": "1SyPSXumXytx",
        "outputId": "83574b0c-d179-471b-a7eb-d917bdce6db0"
      },
      "outputs": [
        {
          "output_type": "stream",
          "name": "stdout",
          "text": [
            "<class 'pandas.core.frame.DataFrame'>\n",
            "RangeIndex: 5000 entries, 0 to 4999\n",
            "Data columns (total 3 columns):\n",
            " #   Column    Non-Null Count  Dtype \n",
            "---  ------    --------------  ----- \n",
            " 0   id        5000 non-null   int64 \n",
            " 1   document  5000 non-null   object\n",
            " 2   label     5000 non-null   int64 \n",
            "dtypes: int64(2), object(1)\n",
            "memory usage: 117.3+ KB\n"
          ]
        }
      ],
      "source": [
        "train = pd.read_csv(os.path.join(DATA_DIR, 'train.csv'))\n",
        "test = pd.read_csv(os.path.join(DATA_DIR, 'test.csv'))\n",
        "train.info()"
      ]
    },
    {
      "cell_type": "code",
      "execution_count": 7,
      "metadata": {
        "colab": {
          "base_uri": "https://localhost:8080/",
          "height": 206
        },
        "id": "hI8vkvWLXytz",
        "outputId": "b49e3807-2636-4718-9591-7cbaa4da96f9"
      },
      "outputs": [
        {
          "output_type": "execute_result",
          "data": {
            "text/html": [
              "\n",
              "  <div id=\"df-1f7f0d15-9285-46f3-8b8a-ce76ed08e522\">\n",
              "    <div class=\"colab-df-container\">\n",
              "      <div>\n",
              "<style scoped>\n",
              "    .dataframe tbody tr th:only-of-type {\n",
              "        vertical-align: middle;\n",
              "    }\n",
              "\n",
              "    .dataframe tbody tr th {\n",
              "        vertical-align: top;\n",
              "    }\n",
              "\n",
              "    .dataframe thead th {\n",
              "        text-align: right;\n",
              "    }\n",
              "</style>\n",
              "<table border=\"1\" class=\"dataframe\">\n",
              "  <thead>\n",
              "    <tr style=\"text-align: right;\">\n",
              "      <th></th>\n",
              "      <th>id</th>\n",
              "      <th>document</th>\n",
              "      <th>label</th>\n",
              "    </tr>\n",
              "  </thead>\n",
              "  <tbody>\n",
              "    <tr>\n",
              "      <th>0</th>\n",
              "      <td>1</td>\n",
              "      <td>영상이나 음악이 이쁘다 해도 미화시킨 불륜일뿐</td>\n",
              "      <td>0</td>\n",
              "    </tr>\n",
              "    <tr>\n",
              "      <th>1</th>\n",
              "      <td>2</td>\n",
              "      <td>히치콕이 이 영화를 봤다면 분명 박수를 쳤을듯...</td>\n",
              "      <td>1</td>\n",
              "    </tr>\n",
              "    <tr>\n",
              "      <th>2</th>\n",
              "      <td>3</td>\n",
              "      <td>괜찮은 음악영화가 또 나왔군요!!! 따뜻한 겨울이 될 것 같아요~</td>\n",
              "      <td>1</td>\n",
              "    </tr>\n",
              "    <tr>\n",
              "      <th>3</th>\n",
              "      <td>4</td>\n",
              "      <td>아무래도 20년도지난작품이라 지금보기는너무유치하다</td>\n",
              "      <td>0</td>\n",
              "    </tr>\n",
              "    <tr>\n",
              "      <th>4</th>\n",
              "      <td>5</td>\n",
              "      <td>지금까지의 영화들이 그랬듯. 이 영화역시 일본에 대한 미화는 여전하다.</td>\n",
              "      <td>0</td>\n",
              "    </tr>\n",
              "  </tbody>\n",
              "</table>\n",
              "</div>\n",
              "      <button class=\"colab-df-convert\" onclick=\"convertToInteractive('df-1f7f0d15-9285-46f3-8b8a-ce76ed08e522')\"\n",
              "              title=\"Convert this dataframe to an interactive table.\"\n",
              "              style=\"display:none;\">\n",
              "        \n",
              "  <svg xmlns=\"http://www.w3.org/2000/svg\" height=\"24px\"viewBox=\"0 0 24 24\"\n",
              "       width=\"24px\">\n",
              "    <path d=\"M0 0h24v24H0V0z\" fill=\"none\"/>\n",
              "    <path d=\"M18.56 5.44l.94 2.06.94-2.06 2.06-.94-2.06-.94-.94-2.06-.94 2.06-2.06.94zm-11 1L8.5 8.5l.94-2.06 2.06-.94-2.06-.94L8.5 2.5l-.94 2.06-2.06.94zm10 10l.94 2.06.94-2.06 2.06-.94-2.06-.94-.94-2.06-.94 2.06-2.06.94z\"/><path d=\"M17.41 7.96l-1.37-1.37c-.4-.4-.92-.59-1.43-.59-.52 0-1.04.2-1.43.59L10.3 9.45l-7.72 7.72c-.78.78-.78 2.05 0 2.83L4 21.41c.39.39.9.59 1.41.59.51 0 1.02-.2 1.41-.59l7.78-7.78 2.81-2.81c.8-.78.8-2.07 0-2.86zM5.41 20L4 18.59l7.72-7.72 1.47 1.35L5.41 20z\"/>\n",
              "  </svg>\n",
              "      </button>\n",
              "      \n",
              "  <style>\n",
              "    .colab-df-container {\n",
              "      display:flex;\n",
              "      flex-wrap:wrap;\n",
              "      gap: 12px;\n",
              "    }\n",
              "\n",
              "    .colab-df-convert {\n",
              "      background-color: #E8F0FE;\n",
              "      border: none;\n",
              "      border-radius: 50%;\n",
              "      cursor: pointer;\n",
              "      display: none;\n",
              "      fill: #1967D2;\n",
              "      height: 32px;\n",
              "      padding: 0 0 0 0;\n",
              "      width: 32px;\n",
              "    }\n",
              "\n",
              "    .colab-df-convert:hover {\n",
              "      background-color: #E2EBFA;\n",
              "      box-shadow: 0px 1px 2px rgba(60, 64, 67, 0.3), 0px 1px 3px 1px rgba(60, 64, 67, 0.15);\n",
              "      fill: #174EA6;\n",
              "    }\n",
              "\n",
              "    [theme=dark] .colab-df-convert {\n",
              "      background-color: #3B4455;\n",
              "      fill: #D2E3FC;\n",
              "    }\n",
              "\n",
              "    [theme=dark] .colab-df-convert:hover {\n",
              "      background-color: #434B5C;\n",
              "      box-shadow: 0px 1px 3px 1px rgba(0, 0, 0, 0.15);\n",
              "      filter: drop-shadow(0px 1px 2px rgba(0, 0, 0, 0.3));\n",
              "      fill: #FFFFFF;\n",
              "    }\n",
              "  </style>\n",
              "\n",
              "      <script>\n",
              "        const buttonEl =\n",
              "          document.querySelector('#df-1f7f0d15-9285-46f3-8b8a-ce76ed08e522 button.colab-df-convert');\n",
              "        buttonEl.style.display =\n",
              "          google.colab.kernel.accessAllowed ? 'block' : 'none';\n",
              "\n",
              "        async function convertToInteractive(key) {\n",
              "          const element = document.querySelector('#df-1f7f0d15-9285-46f3-8b8a-ce76ed08e522');\n",
              "          const dataTable =\n",
              "            await google.colab.kernel.invokeFunction('convertToInteractive',\n",
              "                                                     [key], {});\n",
              "          if (!dataTable) return;\n",
              "\n",
              "          const docLinkHtml = 'Like what you see? Visit the ' +\n",
              "            '<a target=\"_blank\" href=https://colab.research.google.com/notebooks/data_table.ipynb>data table notebook</a>'\n",
              "            + ' to learn more about interactive tables.';\n",
              "          element.innerHTML = '';\n",
              "          dataTable['output_type'] = 'display_data';\n",
              "          await google.colab.output.renderOutput(dataTable, element);\n",
              "          const docLink = document.createElement('div');\n",
              "          docLink.innerHTML = docLinkHtml;\n",
              "          element.appendChild(docLink);\n",
              "        }\n",
              "      </script>\n",
              "    </div>\n",
              "  </div>\n",
              "  "
            ],
            "text/plain": [
              "   id                                 document  label\n",
              "0   1                영상이나 음악이 이쁘다 해도 미화시킨 불륜일뿐      0\n",
              "1   2             히치콕이 이 영화를 봤다면 분명 박수를 쳤을듯...      1\n",
              "2   3     괜찮은 음악영화가 또 나왔군요!!! 따뜻한 겨울이 될 것 같아요~      1\n",
              "3   4              아무래도 20년도지난작품이라 지금보기는너무유치하다      0\n",
              "4   5  지금까지의 영화들이 그랬듯. 이 영화역시 일본에 대한 미화는 여전하다.      0"
            ]
          },
          "metadata": {},
          "execution_count": 7
        }
      ],
      "source": [
        "train.head() #데이터 형태 확인"
      ]
    },
    {
      "cell_type": "code",
      "execution_count": 8,
      "metadata": {
        "colab": {
          "base_uri": "https://localhost:8080/"
        },
        "id": "5T9RiYEcXyt0",
        "outputId": "d8922959-0deb-47bf-f921-c088e3bd93b1"
      },
      "outputs": [
        {
          "output_type": "execute_result",
          "data": {
            "text/plain": [
              "id          0\n",
              "document    0\n",
              "label       0\n",
              "dtype: int64"
            ]
          },
          "metadata": {},
          "execution_count": 8
        }
      ],
      "source": [
        "train.isna().sum() #결측치 확인"
      ]
    },
    {
      "cell_type": "code",
      "execution_count": 9,
      "metadata": {
        "colab": {
          "base_uri": "https://localhost:8080/",
          "height": 293
        },
        "id": "dOoVe4s_Xyt0",
        "outputId": "fbf46c88-3fc4-42dd-85c4-fe345df13860"
      },
      "outputs": [
        {
          "output_type": "execute_result",
          "data": {
            "text/plain": [
              "<matplotlib.axes._subplots.AxesSubplot at 0x7f6c7910bd10>"
            ]
          },
          "metadata": {},
          "execution_count": 9
        },
        {
          "output_type": "display_data",
          "data": {
            "image/png": "[encoded data removed]",
            "text/plain": [
              "<Figure size 432x288 with 1 Axes>"
            ]
          },
          "metadata": {
            "needs_background": "light"
          }
        }
      ],
      "source": [
        "#id는 필요없는 속성이므로 제거해준다.\n",
        "train = train.drop(['id'],axis=1)\n",
        "train.groupby('label').count().plot.bar()"
      ]
    },
    {
      "cell_type": "markdown",
      "metadata": {
        "id": "yJn2irxoXyt1"
      },
      "source": [
        "데이터의 비율이 일정하고 라벨링 또한 전부 돼있으므로 지도학습으로 접근한다.\n",
        "분류 문제이므로 기본적인 로지스틱 회귀를 사용하거나 SVM을 활용한다."
      ]
    },
    {
      "cell_type": "code",
      "execution_count": 10,
      "metadata": {
        "id": "bUJbaru4qkRC"
      },
      "outputs": [],
      "source": [
        "def remove_stop_words(data,stop_words):\n",
        "  pattern = '|'.join(stop_words)\n",
        "  data = data.apply('#'.join)\n",
        "  reviews = data.replace(pattern,'',regex=True)\n",
        "  return reviews\n",
        "\n",
        "def remove_none_alpha(data):\n",
        "  none_words_pattern = '[^a-z|A-Z|0-9|ㄱ-ㅎ|가-힣|]' #특수문자를 전부 제거해준다.\n",
        "  reviews = data.replace(none_words_pattern,'',regex=True)\n",
        "  return reviews\n",
        "\n",
        "def tokenize(data):\n",
        "  ko = Komoran() #토크나이징을 실시한다.\n",
        "  kk = Kkma()\n",
        "  tokens = []\n",
        "  for s in data:\n",
        "    token = ko.morphs(s)\n",
        "    if len(token) < 2: #코모란으로 못자르는 경우 kkma로 별도로 한번더 잘라줬습니다.\n",
        "      token = kk.morphs(s)\n",
        "    tokens.append(token)\n",
        "  return tokens\n",
        "\n",
        "def pre_process(df,stop_words):\n",
        "  df['document'] = remove_none_alpha(df['document'])\n",
        "  df['tokens'] = tokenize(df['document'])\n",
        "  df['tokens'] = remove_stop_words(df['tokens'],stop_words)\n",
        "  return df"
      ]
    },
    {
      "cell_type": "markdown",
      "source": [
        " #토큰화를 실행한 이후 많이 사용되는 단어를 찾아보자.(긍,부)"
      ],
      "metadata": {
        "id": "_nCrv9AOhIzl"
      }
    },
    {
      "cell_type": "code",
      "source": [
        "#특수문자,불용어제거, 토큰화를 실행한다.\n",
        "stop_words = ['의','가','이','은','들','는','좀','잘','걍','과','도','를','으로','자','에','와','한','하다','[ㄱ-ㅎ]'] #한글자로 구성된 토큰도 삭제해준다.\n",
        "pre_processed = pre_process(train, stop_words)[['tokens','label']]\n",
        "pre_processed"
      ],
      "metadata": {
        "colab": {
          "base_uri": "https://localhost:8080/",
          "height": 423
        },
        "id": "aP2LCcgsgV3L",
        "outputId": "e0068b37-f311-4601-e224-9c749bb5aef6"
      },
      "execution_count": 11,
      "outputs": [
        {
          "output_type": "execute_result",
          "data": {
            "text/html": [
              "\n",
              "  <div id=\"df-9e1ff114-340d-4dd5-87dc-5e71bcba99c8\">\n",
              "    <div class=\"colab-df-container\">\n",
              "      <div>\n",
              "<style scoped>\n",
              "    .dataframe tbody tr th:only-of-type {\n",
              "        vertical-align: middle;\n",
              "    }\n",
              "\n",
              "    .dataframe tbody tr th {\n",
              "        vertical-align: top;\n",
              "    }\n",
              "\n",
              "    .dataframe thead th {\n",
              "        text-align: right;\n",
              "    }\n",
              "</style>\n",
              "<table border=\"1\" class=\"dataframe\">\n",
              "  <thead>\n",
              "    <tr style=\"text-align: right;\">\n",
              "      <th></th>\n",
              "      <th>tokens</th>\n",
              "      <th>label</th>\n",
              "    </tr>\n",
              "  </thead>\n",
              "  <tbody>\n",
              "    <tr>\n",
              "      <th>0</th>\n",
              "      <td>영상#나#음악##쁘#다#하#아#미화#시키##불륜#일#뿐</td>\n",
              "      <td>0</td>\n",
              "    </tr>\n",
              "    <tr>\n",
              "      <th>1</th>\n",
              "      <td>히치콕##영화##보#았#다면#분#명#박수##치#었#을#듯</td>\n",
              "      <td>1</td>\n",
              "    </tr>\n",
              "    <tr>\n",
              "      <th>2</th>\n",
              "      <td>괜찮##음악#영화##또#나오#았#군요#따#아#뜻하##겨울##되##것#같#아요</td>\n",
              "      <td>1</td>\n",
              "    </tr>\n",
              "    <tr>\n",
              "      <th>3</th>\n",
              "      <td>아무래#20#년대#지난#작품##라#지금#보기##너무#유치#하#다</td>\n",
              "      <td>0</td>\n",
              "    </tr>\n",
              "    <tr>\n",
              "      <th>4</th>\n",
              "      <td>지금#까지##영화###그렇#었#듯#영화#역#시#일본##대하##미#화###어#전하#다</td>\n",
              "      <td>0</td>\n",
              "    </tr>\n",
              "    <tr>\n",
              "      <th>...</th>\n",
              "      <td>...</td>\n",
              "      <td>...</td>\n",
              "    </tr>\n",
              "    <tr>\n",
              "      <th>4995</th>\n",
              "      <td>좋##배우#로#3#류#영화##찍##안타깝##영화</td>\n",
              "      <td>0</td>\n",
              "    </tr>\n",
              "    <tr>\n",
              "      <th>4996</th>\n",
              "      <td>진짜#드럽#게#재미없#다#드#워드#호#퍼그#림##배경#빼#고#보#게#아니##영화</td>\n",
              "      <td>0</td>\n",
              "    </tr>\n",
              "    <tr>\n",
              "      <th>4997</th>\n",
              "      <td>장#실망#스럽##영화#지금#까지#보##영화#중</td>\n",
              "      <td>0</td>\n",
              "    </tr>\n",
              "    <tr>\n",
              "      <th>4998</th>\n",
              "      <td>런#평점#테러#네버#서##막#아야#하##것#아니#</td>\n",
              "      <td>1</td>\n",
              "    </tr>\n",
              "    <tr>\n",
              "      <th>4999</th>\n",
              "      <td>여주인공##전작#서##귀엽#었##데#여#기선#완전#망#하#았#네#실망##다</td>\n",
              "      <td>0</td>\n",
              "    </tr>\n",
              "  </tbody>\n",
              "</table>\n",
              "<p>5000 rows × 2 columns</p>\n",
              "</div>\n",
              "      <button class=\"colab-df-convert\" onclick=\"convertToInteractive('df-9e1ff114-340d-4dd5-87dc-5e71bcba99c8')\"\n",
              "              title=\"Convert this dataframe to an interactive table.\"\n",
              "              style=\"display:none;\">\n",
              "        \n",
              "  <svg xmlns=\"http://www.w3.org/2000/svg\" height=\"24px\"viewBox=\"0 0 24 24\"\n",
              "       width=\"24px\">\n",
              "    <path d=\"M0 0h24v24H0V0z\" fill=\"none\"/>\n",
              "    <path d=\"M18.56 5.44l.94 2.06.94-2.06 2.06-.94-2.06-.94-.94-2.06-.94 2.06-2.06.94zm-11 1L8.5 8.5l.94-2.06 2.06-.94-2.06-.94L8.5 2.5l-.94 2.06-2.06.94zm10 10l.94 2.06.94-2.06 2.06-.94-2.06-.94-.94-2.06-.94 2.06-2.06.94z\"/><path d=\"M17.41 7.96l-1.37-1.37c-.4-.4-.92-.59-1.43-.59-.52 0-1.04.2-1.43.59L10.3 9.45l-7.72 7.72c-.78.78-.78 2.05 0 2.83L4 21.41c.39.39.9.59 1.41.59.51 0 1.02-.2 1.41-.59l7.78-7.78 2.81-2.81c.8-.78.8-2.07 0-2.86zM5.41 20L4 18.59l7.72-7.72 1.47 1.35L5.41 20z\"/>\n",
              "  </svg>\n",
              "      </button>\n",
              "      \n",
              "  <style>\n",
              "    .colab-df-container {\n",
              "      display:flex;\n",
              "      flex-wrap:wrap;\n",
              "      gap: 12px;\n",
              "    }\n",
              "\n",
              "    .colab-df-convert {\n",
              "      background-color: #E8F0FE;\n",
              "      border: none;\n",
              "      border-radius: 50%;\n",
              "      cursor: pointer;\n",
              "      display: none;\n",
              "      fill: #1967D2;\n",
              "      height: 32px;\n",
              "      padding: 0 0 0 0;\n",
              "      width: 32px;\n",
              "    }\n",
              "\n",
              "    .colab-df-convert:hover {\n",
              "      background-color: #E2EBFA;\n",
              "      box-shadow: 0px 1px 2px rgba(60, 64, 67, 0.3), 0px 1px 3px 1px rgba(60, 64, 67, 0.15);\n",
              "      fill: #174EA6;\n",
              "    }\n",
              "\n",
              "    [theme=dark] .colab-df-convert {\n",
              "      background-color: #3B4455;\n",
              "      fill: #D2E3FC;\n",
              "    }\n",
              "\n",
              "    [theme=dark] .colab-df-convert:hover {\n",
              "      background-color: #434B5C;\n",
              "      box-shadow: 0px 1px 3px 1px rgba(0, 0, 0, 0.15);\n",
              "      filter: drop-shadow(0px 1px 2px rgba(0, 0, 0, 0.3));\n",
              "      fill: #FFFFFF;\n",
              "    }\n",
              "  </style>\n",
              "\n",
              "      <script>\n",
              "        const buttonEl =\n",
              "          document.querySelector('#df-9e1ff114-340d-4dd5-87dc-5e71bcba99c8 button.colab-df-convert');\n",
              "        buttonEl.style.display =\n",
              "          google.colab.kernel.accessAllowed ? 'block' : 'none';\n",
              "\n",
              "        async function convertToInteractive(key) {\n",
              "          const element = document.querySelector('#df-9e1ff114-340d-4dd5-87dc-5e71bcba99c8');\n",
              "          const dataTable =\n",
              "            await google.colab.kernel.invokeFunction('convertToInteractive',\n",
              "                                                     [key], {});\n",
              "          if (!dataTable) return;\n",
              "\n",
              "          const docLinkHtml = 'Like what you see? Visit the ' +\n",
              "            '<a target=\"_blank\" href=https://colab.research.google.com/notebooks/data_table.ipynb>data table notebook</a>'\n",
              "            + ' to learn more about interactive tables.';\n",
              "          element.innerHTML = '';\n",
              "          dataTable['output_type'] = 'display_data';\n",
              "          await google.colab.output.renderOutput(dataTable, element);\n",
              "          const docLink = document.createElement('div');\n",
              "          docLink.innerHTML = docLinkHtml;\n",
              "          element.appendChild(docLink);\n",
              "        }\n",
              "      </script>\n",
              "    </div>\n",
              "  </div>\n",
              "  "
            ],
            "text/plain": [
              "                                              tokens  label\n",
              "0                     영상#나#음악##쁘#다#하#아#미화#시키##불륜#일#뿐      0\n",
              "1                    히치콕##영화##보#았#다면#분#명#박수##치#었#을#듯      1\n",
              "2         괜찮##음악#영화##또#나오#았#군요#따#아#뜻하##겨울##되##것#같#아요      1\n",
              "3                아무래#20#년대#지난#작품##라#지금#보기##너무#유치#하#다      0\n",
              "4     지금#까지##영화###그렇#었#듯#영화#역#시#일본##대하##미#화###어#전하#다      0\n",
              "...                                              ...    ...\n",
              "4995                      좋##배우#로#3#류#영화##찍##안타깝##영화      0\n",
              "4996    진짜#드럽#게#재미없#다#드#워드#호#퍼그#림##배경#빼#고#보#게#아니##영화      0\n",
              "4997                       장#실망#스럽##영화#지금#까지#보##영화#중      0\n",
              "4998                     런#평점#테러#네버#서##막#아야#하##것#아니#      1\n",
              "4999       여주인공##전작#서##귀엽#었##데#여#기선#완전#망#하#았#네#실망##다      0\n",
              "\n",
              "[5000 rows x 2 columns]"
            ]
          },
          "metadata": {},
          "execution_count": 11
        }
      ]
    },
    {
      "cell_type": "code",
      "source": [
        "def cleaning_tokens(data):\n",
        "  temp = data.apply(lambda x: x.split('#')) #전처리를 일차적으로 처리한 토큰들\n",
        "  tokens = []\n",
        "  for t in temp:\n",
        "    tokens.append(list(filter(lambda x: len(x) > 0, t)))\n",
        "  return pd.Series(tokens)\n",
        "\n",
        "def get_freq_count(tokens):\n",
        "  pos_token = tokens[pre_processed['label'] == 1]\n",
        "  neg_token = tokens[pre_processed['label'] == 0]\n",
        "  pos_freq = pd.Series(np.concatenate([w for w in pos_token])).value_counts()\n",
        "  neg_freq = pd.Series(np.concatenate([w for w in neg_token])).value_counts()\n",
        "  return pos_freq, neg_freq\n",
        "\n",
        "def remove_doubled_words(pos_freq,neg_freq,tokens):\n",
        "  top_50_pos = pos_freq[:20]\n",
        "  top_50_neg = neg_freq[:20]\n",
        "  remove_words = [p for p in top_50_pos.index if p in top_50_neg.index]\n",
        "  tokens_removed = remove_stop_words(tokens, remove_words)\n",
        "  final_tokens = cleaning_tokens(tokens_removed)\n",
        "  return final_tokens"
      ],
      "metadata": {
        "id": "RsCBJmcmeeso"
      },
      "execution_count": 12,
      "outputs": []
    },
    {
      "cell_type": "code",
      "source": [
        "tokens = cleaning_tokens(pre_processed['tokens'])\n",
        "word_freq = pd.Series(np.concatenate([w for w in tokens])).value_counts()\n",
        "word_freq"
      ],
      "metadata": {
        "colab": {
          "base_uri": "https://localhost:8080/"
        },
        "id": "2rnqL1SDQs62",
        "outputId": "93492c0f-2a89-40b2-e85b-07f98fc9aa4a"
      },
      "execution_count": 13,
      "outputs": [
        {
          "output_type": "execute_result",
          "data": {
            "text/plain": [
              "하     2086\n",
              "다     1926\n",
              "영화    1636\n",
              "보     1256\n",
              "고     1067\n",
              "      ... \n",
              "정려       1\n",
              "무척       1\n",
              "씩씩       1\n",
              "벨보       1\n",
              "장재       1\n",
              "Length: 6161, dtype: int64"
            ]
          },
          "metadata": {},
          "execution_count": 13
        }
      ]
    },
    {
      "cell_type": "markdown",
      "source": [
        "긍정,부정에서 모두 사용되는 단어는 의미 없는 단어이므로 제거해준다."
      ],
      "metadata": {
        "id": "JoKlb5I2h5F8"
      }
    },
    {
      "cell_type": "code",
      "source": [
        "def draw_top_hist(data,name,color):\n",
        "  top_10 = data[:10]\n",
        "  plt.figure(figsize=(12,7.5))\n",
        "  plt.rc('font', family='NanumBarunGothic') \n",
        "  plt.suptitle(\"Bar Plot\", fontsize=30)\n",
        "  plt.title(name, fontsize=15)\n",
        "  plt.bar(top_10.index,top_10.values, width=0.5, color= color, alpha=0.5)\n",
        "  plt.tight_layout(rect=[0, 0.03, 1, 0.95])\n",
        "  plt.show()"
      ],
      "metadata": {
        "id": "RN83Go6MjH7b"
      },
      "execution_count": 14,
      "outputs": []
    },
    {
      "cell_type": "code",
      "source": [
        "pos_freq, neg_freq = get_freq_count(tokens)"
      ],
      "metadata": {
        "id": "LPkYug-8-_4E"
      },
      "execution_count": 15,
      "outputs": []
    },
    {
      "cell_type": "code",
      "source": [
        "draw_top_hist(word_freq,'total reviews','g')"
      ],
      "metadata": {
        "colab": {
          "base_uri": "https://localhost:8080/",
          "height": 533
        },
        "id": "0Q6D2R3-q3cm",
        "outputId": "3781ea5d-de75-4756-c144-2daa8580b4c0"
      },
      "execution_count": 16,
      "outputs": [
        {
          "output_type": "display_data",
          "data": {
            "image/png": "[encoded data removed]",
            "text/plain": [
              "<Figure size 864x540 with 1 Axes>"
            ]
          },
          "metadata": {
            "needs_background": "light"
          }
        }
      ]
    },
    {
      "cell_type": "code",
      "source": [
        "draw_top_hist(pos_freq,'pos reviews','r')"
      ],
      "metadata": {
        "colab": {
          "base_uri": "https://localhost:8080/",
          "height": 533
        },
        "id": "TB0Zx3XEqzqC",
        "outputId": "1f45a8d6-a311-47fb-8519-35bb252bf177"
      },
      "execution_count": 17,
      "outputs": [
        {
          "output_type": "display_data",
          "data": {
            "image/png": "[encoded data removed]",
            "text/plain": [
              "<Figure size 864x540 with 1 Axes>"
            ]
          },
          "metadata": {
            "needs_background": "light"
          }
        }
      ]
    },
    {
      "cell_type": "code",
      "source": [
        "draw_top_hist(neg_freq,'Neg reviews','b')"
      ],
      "metadata": {
        "colab": {
          "base_uri": "https://localhost:8080/",
          "height": 533
        },
        "id": "ajSJnhoikG5a",
        "outputId": "fec4a474-9978-4c7f-f4ac-9bf7c0c3fcf0"
      },
      "execution_count": 18,
      "outputs": [
        {
          "output_type": "display_data",
          "data": {
            "image/png": "[encoded data removed]",
            "text/plain": [
              "<Figure size 864x540 with 1 Axes>"
            ]
          },
          "metadata": {
            "needs_background": "light"
          }
        }
      ]
    },
    {
      "cell_type": "markdown",
      "source": [
        "겹치는 조사가 생각보다 많다. 상위 20위에 공동으로 존재하는 토큰들은 전부 제거해주자."
      ],
      "metadata": {
        "id": "DrTeQS2cpgag"
      }
    },
    {
      "cell_type": "code",
      "source": [
        "top_50_pos = pos_freq[:20]\n",
        "top_50_neg = neg_freq[:20]\n",
        "remove_words = [p for p in top_50_pos.index if p in top_50_neg.index]\n",
        "remove_words"
      ],
      "metadata": {
        "colab": {
          "base_uri": "https://localhost:8080/"
        },
        "id": "on3H6UHfpoX-",
        "outputId": "c6ad3ad8-384e-45f8-dfde-3e46d5c902a6"
      },
      "execution_count": 19,
      "outputs": [
        {
          "output_type": "execute_result",
          "data": {
            "text/plain": [
              "['하', '다', '영화', '보', '고', '았', '게', '었', '어', '아', '지', '을', '데', '만']"
            ]
          },
          "metadata": {},
          "execution_count": 19
        }
      ]
    },
    {
      "cell_type": "code",
      "source": [
        "total = word_freq.sum()\n",
        "removed = word_freq[remove_words].sum()\n",
        "print(f'total: {total} removed: {removed} ratio:{removed / total:.2f}')"
      ],
      "metadata": {
        "colab": {
          "base_uri": "https://localhost:8080/"
        },
        "id": "20JBIfJtr81G",
        "outputId": "364fd1e9-dc36-4297-813c-d42b1c018569"
      },
      "execution_count": 20,
      "outputs": [
        {
          "output_type": "stream",
          "name": "stdout",
          "text": [
            "total: 56176 removed: 14165 ratio:0.25\n"
          ]
        }
      ]
    },
    {
      "cell_type": "markdown",
      "source": [
        "이제 다시금 삭제할 단어들을 불용어로 처리해 제거해 줍니다."
      ],
      "metadata": {
        "id": "acJ5CE7ptHdN"
      }
    },
    {
      "cell_type": "code",
      "source": [
        "tokens_removed = remove_stop_words(tokens, remove_words)\n",
        "tokens_removed"
      ],
      "metadata": {
        "colab": {
          "base_uri": "https://localhost:8080/"
        },
        "id": "VHutCw_Us5jj",
        "outputId": "a3be72e6-6d8b-47c3-d4f8-94818dfbaa79"
      },
      "execution_count": 21,
      "outputs": [
        {
          "output_type": "execute_result",
          "data": {
            "text/plain": [
              "0                영상#나#음악#쁘####미화#시키#불륜#일#뿐\n",
              "1                    히치콕####면#분#명#박수#치###듯\n",
              "2          괜찮#음악##또#나오##군요#따##뜻#겨울#되#것#같#요\n",
              "3              무래#20#년대#난#작품#라#금#기#너무#유치##\n",
              "4             금#까##그렇##듯##역#시#일본#대#미#화##전#\n",
              "                       ...                \n",
              "4995                    좋#배우#로#3#류##찍#안타깝#\n",
              "4996    진짜#드럽##재미없##드#워드#호#퍼그#림#배경#빼####니#\n",
              "4997                      장#실망#스럽##금#까###중\n",
              "4998                 런#평점#테러#네버#서#막#야##것#니\n",
              "4999      여주인공#전작#서#귀엽###여#기선#완전#망###네#실망#\n",
              "Length: 5000, dtype: object"
            ]
          },
          "metadata": {},
          "execution_count": 21
        }
      ]
    },
    {
      "cell_type": "markdown",
      "source": [
        "다시 긍,부정에서 많이 쓰이는 토큰 데이터를 확인해보자."
      ],
      "metadata": {
        "id": "Y3pWZClEFL_T"
      }
    },
    {
      "cell_type": "code",
      "source": [
        "final_tokens = cleaning_tokens(tokens_removed)\n",
        "final_tokens"
      ],
      "metadata": {
        "colab": {
          "base_uri": "https://localhost:8080/"
        },
        "id": "BrrbmXkBZoHJ",
        "outputId": "7619e0fc-0bc4-4723-c7b4-c220fafe352a"
      },
      "execution_count": 22,
      "outputs": [
        {
          "output_type": "execute_result",
          "data": {
            "text/plain": [
              "0                [영상, 나, 음악, 쁘, 미화, 시키, 불륜, 일, 뿐]\n",
              "1                        [히치콕, 면, 분, 명, 박수, 치, 듯]\n",
              "2       [괜찮, 음악, 또, 나오, 군요, 따, 뜻, 겨울, 되, 것, 같, 요]\n",
              "3            [무래, 20, 년대, 난, 작품, 라, 금, 기, 너무, 유치]\n",
              "4             [금, 까, 그렇, 듯, 역, 시, 일본, 대, 미, 화, 전]\n",
              "                          ...                    \n",
              "4995                     [좋, 배우, 로, 3, 류, 찍, 안타깝]\n",
              "4996     [진짜, 드럽, 재미없, 드, 워드, 호, 퍼그, 림, 배경, 빼, 니]\n",
              "4997                         [장, 실망, 스럽, 금, 까, 중]\n",
              "4998               [런, 평점, 테러, 네버, 서, 막, 야, 것, 니]\n",
              "4999       [여주인공, 전작, 서, 귀엽, 여, 기선, 완전, 망, 네, 실망]\n",
              "Length: 5000, dtype: object"
            ]
          },
          "metadata": {},
          "execution_count": 22
        }
      ]
    },
    {
      "cell_type": "code",
      "source": [
        "pos_freq,neg_freq = get_freq_count(final_tokens)"
      ],
      "metadata": {
        "id": "N6YasIYYFQtM"
      },
      "execution_count": 23,
      "outputs": []
    },
    {
      "cell_type": "code",
      "source": [
        "draw_top_hist(pos_freq,'pos reviews','r') #다시 그린 긍정리뷰 빈도수 히스토그램"
      ],
      "metadata": {
        "colab": {
          "base_uri": "https://localhost:8080/",
          "height": 533
        },
        "id": "zkVcNuLQFajr",
        "outputId": "d4cda2e0-a22d-4ebe-91f7-13758f3b403a"
      },
      "execution_count": 24,
      "outputs": [
        {
          "output_type": "display_data",
          "data": {
            "image/png": "[encoded data removed]",
            "text/plain": [
              "<Figure size 864x540 with 1 Axes>"
            ]
          },
          "metadata": {
            "needs_background": "light"
          }
        }
      ]
    },
    {
      "cell_type": "code",
      "source": [
        "draw_top_hist(neg_freq,'neg reviews','b') #다시 그린 긍정리뷰 빈도수 히스토그램"
      ],
      "metadata": {
        "colab": {
          "base_uri": "https://localhost:8080/",
          "height": 533
        },
        "id": "-ItYat_THCrS",
        "outputId": "0415a574-d192-41a7-d9c4-c7dc689c15be"
      },
      "execution_count": 25,
      "outputs": [
        {
          "output_type": "display_data",
          "data": {
            "image/png": "[encoded data removed]",
            "text/plain": [
              "<Figure size 864x540 with 1 Axes>"
            ]
          },
          "metadata": {
            "needs_background": "light"
          }
        }
      ]
    },
    {
      "cell_type": "markdown",
      "source": [
        "공통으로 많이 사용하는 단어들을 제외하고 나니 부정과 긍정에서 사용하는 단어의 차이를 확인 할 수 있었습니다. 이제 벡터화를 진행해 봅시다."
      ],
      "metadata": {
        "id": "GY34dsuDdIKd"
      }
    },
    {
      "cell_type": "markdown",
      "source": [
        "단어의 수가 너무 많다는 생각이 들지 않나요? 6천개의 단어가 꼭 전부 필요할까요? \n",
        "한번만 등장하는 단어도 모두 고려해서 학습시켜야 할까요?"
      ],
      "metadata": {
        "id": "6pmY9XiMPNmK"
      }
    },
    {
      "cell_type": "code",
      "source": [
        "final_freq = pd.Series(np.concatenate([w for w in final_tokens])).value_counts()\n",
        "words_distribution = final_freq[final_freq > 1] #1번 이상 등장하는 단어들의 수\n",
        "accumulate_words = np.add.accumulate(words_distribution)\n",
        "ratio = 0.90\n",
        "over_point = np.where(accumulate_words > sum(final_freq) * ratio)[0][0]\n",
        "plt.figure(figsize=(12,8))\n",
        "plt.bar(range(0,len(words_distribution)),words_distribution.values)\n",
        "plt.title('Words distribuition')\n",
        "plt.suptitle(f'{over_point} words explain {ratio * 100}% of total words dirtribution')"
      ],
      "metadata": {
        "colab": {
          "base_uri": "https://localhost:8080/",
          "height": 557
        },
        "id": "s0WY9sFd834h",
        "outputId": "f4383f93-0c49-4d36-9e88-99431cee6b4f"
      },
      "execution_count": 26,
      "outputs": [
        {
          "output_type": "execute_result",
          "data": {
            "text/plain": [
              "Text(0.5, 0.98, '1888 words explain 90.0% of total words dirtribution')"
            ]
          },
          "metadata": {},
          "execution_count": 26
        },
        {
          "output_type": "display_data",
          "data": {
            "image/png": "[encoded data removed]",
            "text/plain": [
              "<Figure size 864x576 with 1 Axes>"
            ]
          },
          "metadata": {
            "needs_background": "light"
          }
        }
      ]
    },
    {
      "cell_type": "markdown",
      "source": [
        "더 적은 단어를 사용하고도 충분히 문장을 전부 파악할 수 있습니다.\n"
      ],
      "metadata": {
        "id": "I2DCmsiDPXmw"
      }
    },
    {
      "cell_type": "code",
      "source": [
        "final_tokens"
      ],
      "metadata": {
        "colab": {
          "base_uri": "https://localhost:8080/"
        },
        "id": "6-SIlos7DMGy",
        "outputId": "af1a839e-6507-4143-9722-259e91d5704c"
      },
      "execution_count": 27,
      "outputs": [
        {
          "output_type": "execute_result",
          "data": {
            "text/plain": [
              "0                [영상, 나, 음악, 쁘, 미화, 시키, 불륜, 일, 뿐]\n",
              "1                        [히치콕, 면, 분, 명, 박수, 치, 듯]\n",
              "2       [괜찮, 음악, 또, 나오, 군요, 따, 뜻, 겨울, 되, 것, 같, 요]\n",
              "3            [무래, 20, 년대, 난, 작품, 라, 금, 기, 너무, 유치]\n",
              "4             [금, 까, 그렇, 듯, 역, 시, 일본, 대, 미, 화, 전]\n",
              "                          ...                    \n",
              "4995                     [좋, 배우, 로, 3, 류, 찍, 안타깝]\n",
              "4996     [진짜, 드럽, 재미없, 드, 워드, 호, 퍼그, 림, 배경, 빼, 니]\n",
              "4997                         [장, 실망, 스럽, 금, 까, 중]\n",
              "4998               [런, 평점, 테러, 네버, 서, 막, 야, 것, 니]\n",
              "4999       [여주인공, 전작, 서, 귀엽, 여, 기선, 완전, 망, 네, 실망]\n",
              "Length: 5000, dtype: object"
            ]
          },
          "metadata": {},
          "execution_count": 27
        }
      ]
    },
    {
      "cell_type": "code",
      "source": [
        "extract_word = words_distribution[over_point + 1:].index\n",
        "extracted_tokens = remove_stop_words(final_tokens, extract_word)\n",
        "extracted_tokens = cleaning_tokens(extracted_tokens)\n",
        "extracted_tokens"
      ],
      "metadata": {
        "colab": {
          "base_uri": "https://localhost:8080/"
        },
        "id": "Z-Zs59Z2CLjT",
        "outputId": "4d6d1bab-4438-4588-fec2-aa71c74602cc"
      },
      "execution_count": 28,
      "outputs": [
        {
          "output_type": "execute_result",
          "data": {
            "text/plain": [
              "0                [영상, 나, 음악, 쁘, 미화, 시키, 불륜, 일, 뿐]\n",
              "1                             [면, 분, 명, 박수, 치, 듯]\n",
              "2       [괜찮, 음악, 또, 나오, 군요, 따, 뜻, 겨울, 되, 것, 같, 요]\n",
              "3            [무래, 20, 년대, 난, 작품, 라, 금, 기, 너무, 유치]\n",
              "4             [금, 까, 그렇, 듯, 역, 시, 일본, 대, 미, 화, 전]\n",
              "                          ...                    \n",
              "4995                     [좋, 배우, 로, 3, 류, 찍, 안타깝]\n",
              "4996     [진짜, 드럽, 재미없, 드, 워드, 호, 퍼그, 림, 배경, 빼, 니]\n",
              "4997                         [장, 실망, 스럽, 금, 까, 중]\n",
              "4998               [런, 평점, 테러, 네버, 서, 막, 야, 것, 니]\n",
              "4999       [여주인공, 전작, 서, 귀엽, 여, 기선, 완전, 망, 네, 실망]\n",
              "Length: 5000, dtype: object"
            ]
          },
          "metadata": {},
          "execution_count": 28
        }
      ]
    },
    {
      "cell_type": "code",
      "execution_count": 29,
      "metadata": {
        "id": "d_oD1kwXrsYI"
      },
      "outputs": [],
      "source": [
        "#tfidf를 활용해 벡터화를 진행합니다.\n",
        "from sklearn.feature_extraction.text import TfidfVectorizer\n",
        "from sklearn.linear_model import LogisticRegression\n",
        "from sklearn.model_selection import train_test_split"
      ]
    },
    {
      "cell_type": "code",
      "execution_count": 30,
      "metadata": {
        "id": "NrStL8UlSCNO"
      },
      "outputs": [],
      "source": [
        "def make_dataset(tokens):\n",
        "  train_tokens = tokens.apply(' '.join) #중복 단어를 제거한 토큰들을 문자열로 합쳐준다.\n",
        "  X = train_tokens\n",
        "  y = train['label']\n",
        "  X_train, X_eval, y_train, y_eval = train_test_split(X, y, test_size=0.2, random_state=2) #학습 데이터와 검증 데이터를 분리한다.\n",
        "  return X_train, X_eval, y_train, y_eval"
      ]
    },
    {
      "cell_type": "code",
      "source": [
        "def tune_hyper_parameter(X_train, X_eval, y_train, y_eval):\n",
        "  fit_max_feature = 0\n",
        "  fit_c = 0\n",
        "  max_f1 = 0\n",
        "  for i in range(100, len(final_freq), 100):\n",
        "    vectorizer = TfidfVectorizer(analyzer='char',sublinear_tf=True,ngram_range=(1,3),max_features=i) #전체 단어의 수는 6천개 정도 된다.\n",
        "    X_train_vector = vectorizer.fit_transform(X_train)\n",
        "    X_eval_vector = vectorizer.transform(X_eval)\n",
        "    for c in [0.01,0.03,0.1,0.3,1,3,10]:\n",
        "        lgs = LogisticRegression(class_weight = 'balanced',max_iter=2000,C = c)\n",
        "        lgs.fit(X_train_vector, y_train)\n",
        "        yhat = lgs.predict_proba(X_eval_vector)\n",
        "        predicted = lgs.predict(X_eval_vector)\n",
        "        f1 = f1_score(y_eval, predicted)\n",
        "        accuracy = sum(predicted == y_eval) / len(predicted)\n",
        "        print(f\"Accuracy: {accuracy} f1-score: {f1}, max-features:{i}\")\n",
        "        if max_f1 < f1:\n",
        "          fit_max_feature = i\n",
        "          fit_c = c\n",
        "          max_f1 = f1\n",
        "  return fit_max_feature, fit_c, max_f1\n"
      ],
      "metadata": {
        "id": "Cys2sL2ennSN"
      },
      "execution_count": 31,
      "outputs": []
    },
    {
      "cell_type": "code",
      "source": [
        "X_train, X_eval, y_train, y_eval = make_dataset(extracted_tokens)\n",
        "best_max_feature, best_cost, best_f1 = tune_hyper_parameter(X_train, X_eval, y_train, y_eval)"
      ],
      "metadata": {
        "colab": {
          "base_uri": "https://localhost:8080/"
        },
        "id": "fO4p7s1Xpb0s",
        "outputId": "3d9118c6-9ade-4f05-fa10-8bcd1ebb63e9"
      },
      "execution_count": 32,
      "outputs": [
        {
          "output_type": "stream",
          "name": "stdout",
          "text": [
            "Accuracy: 0.694 f1-score: 0.6832298136645963, max-features:100\n",
            "Accuracy: 0.697 f1-score: 0.6866597724922441, max-features:100\n",
            "Accuracy: 0.704 f1-score: 0.6948453608247424, max-features:100\n",
            "Accuracy: 0.719 f1-score: 0.71120246659815, max-features:100\n",
            "Accuracy: 0.729 f1-score: 0.722051282051282, max-features:100\n",
            "Accuracy: 0.732 f1-score: 0.7242798353909465, max-features:100\n",
            "Accuracy: 0.732 f1-score: 0.7237113402061855, max-features:100\n",
            "Accuracy: 0.715 f1-score: 0.7034339229968783, max-features:200\n",
            "Accuracy: 0.72 f1-score: 0.7119341563786009, max-features:200\n",
            "Accuracy: 0.735 f1-score: 0.7287615148413511, max-features:200\n",
            "Accuracy: 0.746 f1-score: 0.7402862985685073, max-features:200\n",
            "Accuracy: 0.752 f1-score: 0.751004016064257, max-features:200\n",
            "Accuracy: 0.754 f1-score: 0.7544910179640719, max-features:200\n",
            "Accuracy: 0.755 f1-score: 0.7552447552447552, max-features:200\n",
            "Accuracy: 0.739 f1-score: 0.7317574511819116, max-features:300\n",
            "Accuracy: 0.739 f1-score: 0.7328556806550665, max-features:300\n",
            "Accuracy: 0.752 f1-score: 0.7494949494949494, max-features:300\n",
            "Accuracy: 0.774 f1-score: 0.774, max-features:300\n",
            "Accuracy: 0.776 f1-score: 0.7768924302788844, max-features:300\n",
            "Accuracy: 0.765 f1-score: 0.765702891326022, max-features:300\n",
            "Accuracy: 0.767 f1-score: 0.7676969092721834, max-features:300\n",
            "Accuracy: 0.749 f1-score: 0.7436159346271706, max-features:400\n",
            "Accuracy: 0.749 f1-score: 0.7462082912032357, max-features:400\n",
            "Accuracy: 0.768 f1-score: 0.7684630738522953, max-features:400\n",
            "Accuracy: 0.773 f1-score: 0.7741293532338308, max-features:400\n",
            "Accuracy: 0.785 f1-score: 0.7881773399014778, max-features:400\n",
            "Accuracy: 0.787 f1-score: 0.7909715407262022, max-features:400\n",
            "Accuracy: 0.783 f1-score: 0.786206896551724, max-features:400\n",
            "Accuracy: 0.753 f1-score: 0.7477017364657814, max-features:500\n",
            "Accuracy: 0.765 f1-score: 0.7623862487360971, max-features:500\n",
            "Accuracy: 0.772 f1-score: 0.7733598409542742, max-features:500\n",
            "Accuracy: 0.781 f1-score: 0.7838104639684107, max-features:500\n",
            "Accuracy: 0.793 f1-score: 0.7968596663395486, max-features:500\n",
            "Accuracy: 0.789 f1-score: 0.7921182266009852, max-features:500\n",
            "Accuracy: 0.785 f1-score: 0.7898338220918865, max-features:500\n",
            "Accuracy: 0.767 f1-score: 0.7629704984740591, max-features:600\n",
            "Accuracy: 0.773 f1-score: 0.7704752275025277, max-features:600\n",
            "Accuracy: 0.782 f1-score: 0.7828685258964142, max-features:600\n",
            "Accuracy: 0.795 f1-score: 0.7976307996051333, max-features:600\n",
            "Accuracy: 0.791 f1-score: 0.7944936086529006, max-features:600\n",
            "Accuracy: 0.793 f1-score: 0.7944389275074479, max-features:600\n",
            "Accuracy: 0.8 f1-score: 0.801980198019802, max-features:600\n",
            "Accuracy: 0.784 f1-score: 0.7822580645161291, max-features:700\n",
            "Accuracy: 0.79 f1-score: 0.7891566265060241, max-features:700\n",
            "Accuracy: 0.792 f1-score: 0.7936507936507935, max-features:700\n",
            "Accuracy: 0.799 f1-score: 0.802747791952895, max-features:700\n",
            "Accuracy: 0.804 f1-score: 0.8082191780821918, max-features:700\n",
            "Accuracy: 0.805 f1-score: 0.8090107737512242, max-features:700\n",
            "Accuracy: 0.799 f1-score: 0.803134182174339, max-features:700\n",
            "Accuracy: 0.79 f1-score: 0.7874493927125505, max-features:800\n",
            "Accuracy: 0.792 f1-score: 0.7903225806451614, max-features:800\n",
            "Accuracy: 0.804 f1-score: 0.8051689860834992, max-features:800\n",
            "Accuracy: 0.813 f1-score: 0.8168462291870715, max-features:800\n",
            "Accuracy: 0.818 f1-score: 0.8208661417322834, max-features:800\n",
            "Accuracy: 0.822 f1-score: 0.825147347740668, max-features:800\n",
            "Accuracy: 0.811 f1-score: 0.8148873653281097, max-features:800\n",
            "Accuracy: 0.795 f1-score: 0.7939698492462312, max-features:900\n",
            "Accuracy: 0.8 f1-score: 0.8007968127490039, max-features:900\n",
            "Accuracy: 0.814 f1-score: 0.8176470588235294, max-features:900\n",
            "Accuracy: 0.822 f1-score: 0.8258317025440313, max-features:900\n",
            "Accuracy: 0.828 f1-score: 0.8303747534516764, max-features:900\n",
            "Accuracy: 0.829 f1-score: 0.8311944718657454, max-features:900\n",
            "Accuracy: 0.822 f1-score: 0.8248031496062993, max-features:900\n",
            "Accuracy: 0.798 f1-score: 0.7975951903807615, max-features:1000\n",
            "Accuracy: 0.801 f1-score: 0.8019900497512438, max-features:1000\n",
            "Accuracy: 0.813 f1-score: 0.8164867517173701, max-features:1000\n",
            "Accuracy: 0.826 f1-score: 0.8297455968688845, max-features:1000\n",
            "Accuracy: 0.837 f1-score: 0.8397246804326449, max-features:1000\n",
            "Accuracy: 0.834 f1-score: 0.8359683794466402, max-features:1000\n",
            "Accuracy: 0.825 f1-score: 0.8275862068965517, max-features:1000\n",
            "Accuracy: 0.798 f1-score: 0.7984031936127745, max-features:1100\n",
            "Accuracy: 0.805 f1-score: 0.8059701492537312, max-features:1100\n",
            "Accuracy: 0.819 f1-score: 0.8220255653883971, max-features:1100\n",
            "Accuracy: 0.834 f1-score: 0.837573385518591, max-features:1100\n",
            "Accuracy: 0.84 f1-score: 0.8422090729783036, max-features:1100\n",
            "Accuracy: 0.84 f1-score: 0.8422090729783036, max-features:1100\n",
            "Accuracy: 0.828 f1-score: 0.8307086614173228, max-features:1100\n",
            "Accuracy: 0.799 f1-score: 0.7996011964107678, max-features:1200\n",
            "Accuracy: 0.81 f1-score: 0.8118811881188118, max-features:1200\n",
            "Accuracy: 0.821 f1-score: 0.8236453201970444, max-features:1200\n",
            "Accuracy: 0.84 f1-score: 0.8440545808966863, max-features:1200\n",
            "Accuracy: 0.843 f1-score: 0.845320197044335, max-features:1200\n",
            "Accuracy: 0.839 f1-score: 0.8426197458455523, max-features:1200\n",
            "Accuracy: 0.834 f1-score: 0.837573385518591, max-features:1200\n",
            "Accuracy: 0.805 f1-score: 0.8059701492537312, max-features:1300\n",
            "Accuracy: 0.816 f1-score: 0.8178217821782179, max-features:1300\n",
            "Accuracy: 0.825 f1-score: 0.8279252704031466, max-features:1300\n",
            "Accuracy: 0.838 f1-score: 0.841796875, max-features:1300\n",
            "Accuracy: 0.844 f1-score: 0.8464566929133859, max-features:1300\n",
            "Accuracy: 0.845 f1-score: 0.8478900883218842, max-features:1300\n",
            "Accuracy: 0.838 f1-score: 0.8424124513618678, max-features:1300\n",
            "Accuracy: 0.805 f1-score: 0.8063555114200597, max-features:1400\n",
            "Accuracy: 0.817 f1-score: 0.8193484698914116, max-features:1400\n",
            "Accuracy: 0.825 f1-score: 0.8282630029440627, max-features:1400\n",
            "Accuracy: 0.84 f1-score: 0.8443579766536966, max-features:1400\n",
            "Accuracy: 0.843 f1-score: 0.8456243854473943, max-features:1400\n",
            "Accuracy: 0.834 f1-score: 0.8382066276803118, max-features:1400\n",
            "Accuracy: 0.838 f1-score: 0.8424124513618678, max-features:1400\n",
            "Accuracy: 0.807 f1-score: 0.8079601990049752, max-features:1500\n",
            "Accuracy: 0.816 f1-score: 0.8188976377952756, max-features:1500\n",
            "Accuracy: 0.822 f1-score: 0.825147347740668, max-features:1500\n",
            "Accuracy: 0.841 f1-score: 0.8451801363193768, max-features:1500\n",
            "Accuracy: 0.847 f1-score: 0.8504398826979471, max-features:1500\n",
            "Accuracy: 0.841 f1-score: 0.8448780487804879, max-features:1500\n",
            "Accuracy: 0.839 f1-score: 0.8429268292682927, max-features:1500\n",
            "Accuracy: 0.808 f1-score: 0.8087649402390439, max-features:1600\n",
            "Accuracy: 0.819 f1-score: 0.820969337289812, max-features:1600\n",
            "Accuracy: 0.821 f1-score: 0.8250244379276638, max-features:1600\n",
            "Accuracy: 0.839 f1-score: 0.8429268292682927, max-features:1600\n",
            "Accuracy: 0.845 f1-score: 0.8478900883218842, max-features:1600\n",
            "Accuracy: 0.836 f1-score: 0.83984375, max-features:1600\n",
            "Accuracy: 0.835 f1-score: 0.8393378773125609, max-features:1600\n",
            "Accuracy: 0.808 f1-score: 0.8083832335329342, max-features:1700\n",
            "Accuracy: 0.82 f1-score: 0.8221343873517787, max-features:1700\n",
            "Accuracy: 0.827 f1-score: 0.8302257114818449, max-features:1700\n",
            "Accuracy: 0.84 f1-score: 0.8437499999999999, max-features:1700\n",
            "Accuracy: 0.847 f1-score: 0.8501469147894221, max-features:1700\n",
            "Accuracy: 0.838 f1-score: 0.841796875, max-features:1700\n",
            "Accuracy: 0.833 f1-score: 0.836754643206256, max-features:1700\n",
            "Accuracy: 0.81 f1-score: 0.8111332007952287, max-features:1800\n",
            "Accuracy: 0.824 f1-score: 0.8264299802761341, max-features:1800\n",
            "Accuracy: 0.828 f1-score: 0.831041257367387, max-features:1800\n",
            "Accuracy: 0.843 f1-score: 0.8471275559883155, max-features:1800\n",
            "Accuracy: 0.85 f1-score: 0.853515625, max-features:1800\n",
            "Accuracy: 0.845 f1-score: 0.8484848484848486, max-features:1800\n",
            "Accuracy: 0.841 f1-score: 0.844574780058651, max-features:1800\n",
            "Accuracy: 0.813 f1-score: 0.8142999006951342, max-features:1900\n",
            "Accuracy: 0.825 f1-score: 0.8272458045409674, max-features:1900\n",
            "Accuracy: 0.832 f1-score: 0.8352941176470589, max-features:1900\n",
            "Accuracy: 0.844 f1-score: 0.84765625, max-features:1900\n",
            "Accuracy: 0.852 f1-score: 0.85546875, max-features:1900\n",
            "Accuracy: 0.848 f1-score: 0.8509803921568626, max-features:1900\n",
            "Accuracy: 0.849 f1-score: 0.8523949169110461, max-features:1900\n",
            "Accuracy: 0.817 f1-score: 0.8182720953326713, max-features:2000\n",
            "Accuracy: 0.826 f1-score: 0.8280632411067195, max-features:2000\n",
            "Accuracy: 0.834 f1-score: 0.837573385518591, max-features:2000\n",
            "Accuracy: 0.845 f1-score: 0.8487804878048781, max-features:2000\n",
            "Accuracy: 0.851 f1-score: 0.8546341463414635, max-features:2000\n",
            "Accuracy: 0.85 f1-score: 0.853515625, max-features:2000\n",
            "Accuracy: 0.848 f1-score: 0.8515625, max-features:2000\n",
            "Accuracy: 0.82 f1-score: 0.8214285714285714, max-features:2100\n",
            "Accuracy: 0.828 f1-score: 0.8303747534516764, max-features:2100\n",
            "Accuracy: 0.836 f1-score: 0.8395303326810176, max-features:2100\n",
            "Accuracy: 0.847 f1-score: 0.8507317073170731, max-features:2100\n",
            "Accuracy: 0.852 f1-score: 0.8551859099804304, max-features:2100\n",
            "Accuracy: 0.848 f1-score: 0.8515625, max-features:2100\n",
            "Accuracy: 0.849 f1-score: 0.8526829268292683, max-features:2100\n",
            "Accuracy: 0.82 f1-score: 0.821782178217822, max-features:2200\n",
            "Accuracy: 0.829 f1-score: 0.831527093596059, max-features:2200\n",
            "Accuracy: 0.836 f1-score: 0.8395303326810176, max-features:2200\n",
            "Accuracy: 0.849 f1-score: 0.8521057786483839, max-features:2200\n",
            "Accuracy: 0.852 f1-score: 0.85546875, max-features:2200\n",
            "Accuracy: 0.851 f1-score: 0.8543499511241446, max-features:2200\n",
            "Accuracy: 0.846 f1-score: 0.8496093749999999, max-features:2200\n",
            "Accuracy: 0.819 f1-score: 0.8206144697720514, max-features:2300\n",
            "Accuracy: 0.828 f1-score: 0.8303747534516764, max-features:2300\n",
            "Accuracy: 0.835 f1-score: 0.8387096774193549, max-features:2300\n",
            "Accuracy: 0.851 f1-score: 0.8543499511241446, max-features:2300\n",
            "Accuracy: 0.851 f1-score: 0.8546341463414635, max-features:2300\n",
            "Accuracy: 0.847 f1-score: 0.8501469147894221, max-features:2300\n",
            "Accuracy: 0.85 f1-score: 0.853515625, max-features:2300\n",
            "Accuracy: 0.817 f1-score: 0.8182720953326713, max-features:2400\n",
            "Accuracy: 0.829 f1-score: 0.831527093596059, max-features:2400\n",
            "Accuracy: 0.836 f1-score: 0.8395303326810176, max-features:2400\n",
            "Accuracy: 0.849 f1-score: 0.8529698149951315, max-features:2400\n",
            "Accuracy: 0.851 f1-score: 0.8540646425073457, max-features:2400\n",
            "Accuracy: 0.851 f1-score: 0.8543499511241446, max-features:2400\n",
            "Accuracy: 0.854 f1-score: 0.8571428571428572, max-features:2400\n",
            "Accuracy: 0.819 f1-score: 0.8199004975124379, max-features:2500\n",
            "Accuracy: 0.827 f1-score: 0.8295566502463054, max-features:2500\n",
            "Accuracy: 0.837 f1-score: 0.840352595494613, max-features:2500\n",
            "Accuracy: 0.85 f1-score: 0.853515625, max-features:2500\n",
            "Accuracy: 0.852 f1-score: 0.8551859099804304, max-features:2500\n",
            "Accuracy: 0.85 f1-score: 0.8529411764705882, max-features:2500\n",
            "Accuracy: 0.849 f1-score: 0.8518155053974485, max-features:2500\n",
            "Accuracy: 0.821 f1-score: 0.8218905472636816, max-features:2600\n",
            "Accuracy: 0.829 f1-score: 0.8311944718657454, max-features:2600\n",
            "Accuracy: 0.838 f1-score: 0.8411764705882354, max-features:2600\n",
            "Accuracy: 0.852 f1-score: 0.8551859099804304, max-features:2600\n",
            "Accuracy: 0.852 f1-score: 0.8543307086614174, max-features:2600\n",
            "Accuracy: 0.852 f1-score: 0.8543307086614174, max-features:2600\n",
            "Accuracy: 0.849 f1-score: 0.8509378084896347, max-features:2600\n",
            "Accuracy: 0.824 f1-score: 0.8243512974051896, max-features:2700\n",
            "Accuracy: 0.829 f1-score: 0.8308605341246291, max-features:2700\n",
            "Accuracy: 0.837 f1-score: 0.840352595494613, max-features:2700\n",
            "Accuracy: 0.852 f1-score: 0.8551859099804304, max-features:2700\n",
            "Accuracy: 0.855 f1-score: 0.8571428571428571, max-features:2700\n",
            "Accuracy: 0.85 f1-score: 0.8526522593320236, max-features:2700\n",
            "Accuracy: 0.853 f1-score: 0.8554572271386431, max-features:2700\n",
            "Accuracy: 0.822 f1-score: 0.8227091633466137, max-features:2800\n",
            "Accuracy: 0.83 f1-score: 0.8316831683168316, max-features:2800\n",
            "Accuracy: 0.836 f1-score: 0.8388998035363457, max-features:2800\n",
            "Accuracy: 0.85 f1-score: 0.853228962818004, max-features:2800\n",
            "Accuracy: 0.854 f1-score: 0.8560157790927022, max-features:2800\n",
            "Accuracy: 0.85 f1-score: 0.8523622047244094, max-features:2800\n",
            "Accuracy: 0.855 f1-score: 0.8571428571428571, max-features:2800\n",
            "Accuracy: 0.825 f1-score: 0.8255234297108672, max-features:2900\n",
            "Accuracy: 0.829 f1-score: 0.8308605341246291, max-features:2900\n",
            "Accuracy: 0.836 f1-score: 0.8388998035363457, max-features:2900\n",
            "Accuracy: 0.847 f1-score: 0.8504398826979471, max-features:2900\n",
            "Accuracy: 0.854 f1-score: 0.8557312252964427, max-features:2900\n",
            "Accuracy: 0.847 f1-score: 0.8498527968596662, max-features:2900\n",
            "Accuracy: 0.855 f1-score: 0.8577036310107947, max-features:2900\n",
            "Accuracy: 0.823 f1-score: 0.8231768231768232, max-features:3000\n",
            "Accuracy: 0.83 f1-score: 0.8320158102766798, max-features:3000\n",
            "Accuracy: 0.835 f1-score: 0.8380765456329736, max-features:3000\n",
            "Accuracy: 0.846 f1-score: 0.8496093749999999, max-features:3000\n",
            "Accuracy: 0.853 f1-score: 0.8554572271386431, max-features:3000\n",
            "Accuracy: 0.849 f1-score: 0.8518155053974485, max-features:3000\n",
            "Accuracy: 0.852 f1-score: 0.8537549407114624, max-features:3000\n",
            "Accuracy: 0.822 f1-score: 0.8223552894211578, max-features:3100\n",
            "Accuracy: 0.83 f1-score: 0.8320158102766798, max-features:3100\n",
            "Accuracy: 0.838 f1-score: 0.8408644400785854, max-features:3100\n",
            "Accuracy: 0.844 f1-score: 0.84765625, max-features:3100\n",
            "Accuracy: 0.853 f1-score: 0.8554572271386431, max-features:3100\n",
            "Accuracy: 0.847 f1-score: 0.8501469147894221, max-features:3100\n",
            "Accuracy: 0.852 f1-score: 0.8540433925049311, max-features:3100\n",
            "Accuracy: 0.82 f1-score: 0.82, max-features:3200\n",
            "Accuracy: 0.829 f1-score: 0.8311944718657454, max-features:3200\n",
            "Accuracy: 0.836 f1-score: 0.8388998035363457, max-features:3200\n",
            "Accuracy: 0.846 f1-score: 0.8493150684931507, max-features:3200\n",
            "Accuracy: 0.854 f1-score: 0.8565815324165029, max-features:3200\n",
            "Accuracy: 0.851 f1-score: 0.8537782139352306, max-features:3200\n",
            "Accuracy: 0.852 f1-score: 0.8537549407114624, max-features:3200\n",
            "Accuracy: 0.817 f1-score: 0.8171828171828173, max-features:3300\n",
            "Accuracy: 0.829 f1-score: 0.8308605341246291, max-features:3300\n",
            "Accuracy: 0.837 f1-score: 0.8400392541707556, max-features:3300\n",
            "Accuracy: 0.847 f1-score: 0.8504398826979471, max-features:3300\n",
            "Accuracy: 0.853 f1-score: 0.8554572271386431, max-features:3300\n",
            "Accuracy: 0.855 f1-score: 0.8568608094768017, max-features:3300\n",
            "Accuracy: 0.853 f1-score: 0.8545994065281899, max-features:3300\n",
            "Accuracy: 0.821 f1-score: 0.8215353938185443, max-features:3400\n",
            "Accuracy: 0.829 f1-score: 0.8308605341246291, max-features:3400\n",
            "Accuracy: 0.837 f1-score: 0.8397246804326449, max-features:3400\n",
            "Accuracy: 0.847 f1-score: 0.8504398826979471, max-features:3400\n",
            "Accuracy: 0.851 f1-score: 0.8532019704433498, max-features:3400\n",
            "Accuracy: 0.851 f1-score: 0.8529121421520236, max-features:3400\n",
            "Accuracy: 0.851 f1-score: 0.8529121421520236, max-features:3400\n",
            "Accuracy: 0.82 f1-score: 0.8210735586481114, max-features:3500\n",
            "Accuracy: 0.829 f1-score: 0.8308605341246291, max-features:3500\n",
            "Accuracy: 0.835 f1-score: 0.8377581120943953, max-features:3500\n",
            "Accuracy: 0.847 f1-score: 0.8501469147894221, max-features:3500\n",
            "Accuracy: 0.853 f1-score: 0.8554572271386431, max-features:3500\n",
            "Accuracy: 0.85 f1-score: 0.8520710059171598, max-features:3500\n",
            "Accuracy: 0.851 f1-score: 0.8540646425073457, max-features:3500\n",
            "Accuracy: 0.823 f1-score: 0.8235294117647058, max-features:3600\n",
            "Accuracy: 0.83 f1-score: 0.8316831683168316, max-features:3600\n",
            "Accuracy: 0.835 f1-score: 0.8377581120943953, max-features:3600\n",
            "Accuracy: 0.849 f1-score: 0.8521057786483839, max-features:3600\n",
            "Accuracy: 0.854 f1-score: 0.8562992125984252, max-features:3600\n",
            "Accuracy: 0.851 f1-score: 0.8529121421520236, max-features:3600\n",
            "Accuracy: 0.851 f1-score: 0.8540646425073457, max-features:3600\n",
            "Accuracy: 0.822 f1-score: 0.8227091633466137, max-features:3700\n",
            "Accuracy: 0.83 f1-score: 0.8316831683168316, max-features:3700\n",
            "Accuracy: 0.833 f1-score: 0.8357915437561455, max-features:3700\n",
            "Accuracy: 0.85 f1-score: 0.853228962818004, max-features:3700\n",
            "Accuracy: 0.854 f1-score: 0.8560157790927022, max-features:3700\n",
            "Accuracy: 0.852 f1-score: 0.8543307086614174, max-features:3700\n",
            "Accuracy: 0.85 f1-score: 0.853228962818004, max-features:3700\n",
            "Accuracy: 0.82 f1-score: 0.8203592814371257, max-features:3800\n",
            "Accuracy: 0.83 f1-score: 0.8316831683168316, max-features:3800\n",
            "Accuracy: 0.832 f1-score: 0.8349705304518664, max-features:3800\n",
            "Accuracy: 0.848 f1-score: 0.8515625, max-features:3800\n",
            "Accuracy: 0.853 f1-score: 0.8551724137931035, max-features:3800\n",
            "Accuracy: 0.851 f1-score: 0.8534906588003933, max-features:3800\n",
            "Accuracy: 0.851 f1-score: 0.8540646425073457, max-features:3800\n",
            "Accuracy: 0.82 f1-score: 0.8207171314741036, max-features:3900\n",
            "Accuracy: 0.829 f1-score: 0.8308605341246291, max-features:3900\n",
            "Accuracy: 0.832 f1-score: 0.8349705304518664, max-features:3900\n",
            "Accuracy: 0.849 f1-score: 0.8523949169110461, max-features:3900\n",
            "Accuracy: 0.853 f1-score: 0.8551724137931035, max-features:3900\n",
            "Accuracy: 0.851 f1-score: 0.8537782139352306, max-features:3900\n",
            "Accuracy: 0.853 f1-score: 0.8554572271386431, max-features:3900\n",
            "Accuracy: 0.82 f1-score: 0.8207171314741036, max-features:4000\n",
            "Accuracy: 0.828 f1-score: 0.8297029702970297, max-features:4000\n",
            "Accuracy: 0.832 f1-score: 0.8349705304518664, max-features:4000\n",
            "Accuracy: 0.849 f1-score: 0.8526829268292683, max-features:4000\n",
            "Accuracy: 0.851 f1-score: 0.8534906588003933, max-features:4000\n",
            "Accuracy: 0.854 f1-score: 0.8562992125984252, max-features:4000\n",
            "Accuracy: 0.849 f1-score: 0.8518155053974485, max-features:4000\n",
            "Accuracy: 0.819 f1-score: 0.8195413758723828, max-features:4100\n",
            "Accuracy: 0.828 f1-score: 0.8297029702970297, max-features:4100\n",
            "Accuracy: 0.832 f1-score: 0.8346456692913385, max-features:4100\n",
            "Accuracy: 0.847 f1-score: 0.8507317073170731, max-features:4100\n",
            "Accuracy: 0.85 f1-score: 0.8523622047244094, max-features:4100\n",
            "Accuracy: 0.854 f1-score: 0.8565815324165029, max-features:4100\n",
            "Accuracy: 0.853 f1-score: 0.8554572271386431, max-features:4100\n",
            "Accuracy: 0.817 f1-score: 0.8179104477611939, max-features:4200\n",
            "Accuracy: 0.828 f1-score: 0.8297029702970297, max-features:4200\n",
            "Accuracy: 0.833 f1-score: 0.8357915437561455, max-features:4200\n",
            "Accuracy: 0.843 f1-score: 0.8471275559883155, max-features:4200\n",
            "Accuracy: 0.849 f1-score: 0.8515240904621436, max-features:4200\n",
            "Accuracy: 0.854 f1-score: 0.8565815324165029, max-features:4200\n",
            "Accuracy: 0.846 f1-score: 0.8484251968503937, max-features:4200\n",
            "Accuracy: 0.818 f1-score: 0.8183632734530939, max-features:4300\n",
            "Accuracy: 0.828 f1-score: 0.8297029702970297, max-features:4300\n",
            "Accuracy: 0.832 f1-score: 0.8346456692913385, max-features:4300\n",
            "Accuracy: 0.844 f1-score: 0.847953216374269, max-features:4300\n",
            "Accuracy: 0.852 f1-score: 0.8543307086614174, max-features:4300\n",
            "Accuracy: 0.854 f1-score: 0.8565815324165029, max-features:4300\n",
            "Accuracy: 0.85 f1-score: 0.853228962818004, max-features:4300\n",
            "Accuracy: 0.819 f1-score: 0.8195413758723828, max-features:4400\n",
            "Accuracy: 0.827 f1-score: 0.8282025819265144, max-features:4400\n",
            "Accuracy: 0.832 f1-score: 0.8346456692913385, max-features:4400\n",
            "Accuracy: 0.84 f1-score: 0.8440545808966863, max-features:4400\n",
            "Accuracy: 0.852 f1-score: 0.8543307086614174, max-features:4400\n",
            "Accuracy: 0.851 f1-score: 0.8537782139352306, max-features:4400\n",
            "Accuracy: 0.847 f1-score: 0.8504398826979471, max-features:4400\n",
            "Accuracy: 0.822 f1-score: 0.8227091633466137, max-features:4500\n",
            "Accuracy: 0.826 f1-score: 0.8273809523809523, max-features:4500\n",
            "Accuracy: 0.832 f1-score: 0.8346456692913385, max-features:4500\n",
            "Accuracy: 0.842 f1-score: 0.8457031250000001, max-features:4500\n",
            "Accuracy: 0.85 f1-score: 0.8520710059171598, max-features:4500\n",
            "Accuracy: 0.85 f1-score: 0.8529411764705882, max-features:4500\n",
            "Accuracy: 0.847 f1-score: 0.8507317073170731, max-features:4500\n",
            "Accuracy: 0.822 f1-score: 0.8227091633466137, max-features:4600\n",
            "Accuracy: 0.827 f1-score: 0.8285431119920713, max-features:4600\n",
            "Accuracy: 0.832 f1-score: 0.8346456692913385, max-features:4600\n",
            "Accuracy: 0.842 f1-score: 0.8457031250000001, max-features:4600\n",
            "Accuracy: 0.85 f1-score: 0.8520710059171598, max-features:4600\n",
            "Accuracy: 0.849 f1-score: 0.8521057786483839, max-features:4600\n",
            "Accuracy: 0.849 f1-score: 0.8526829268292683, max-features:4600\n",
            "Accuracy: 0.821 f1-score: 0.8218905472636816, max-features:4700\n",
            "Accuracy: 0.827 f1-score: 0.8285431119920713, max-features:4700\n",
            "Accuracy: 0.833 f1-score: 0.8354679802955666, max-features:4700\n",
            "Accuracy: 0.843 f1-score: 0.846829268292683, max-features:4700\n",
            "Accuracy: 0.851 f1-score: 0.8532019704433498, max-features:4700\n",
            "Accuracy: 0.851 f1-score: 0.8540646425073457, max-features:4700\n",
            "Accuracy: 0.85 f1-score: 0.853515625, max-features:4700\n",
            "Accuracy: 0.82 f1-score: 0.8203592814371257, max-features:4800\n",
            "Accuracy: 0.828 f1-score: 0.8293650793650794, max-features:4800\n",
            "Accuracy: 0.832 f1-score: 0.8346456692913385, max-features:4800\n",
            "Accuracy: 0.844 f1-score: 0.84765625, max-features:4800\n",
            "Accuracy: 0.853 f1-score: 0.8551724137931035, max-features:4800\n",
            "Accuracy: 0.85 f1-score: 0.853228962818004, max-features:4800\n",
            "Accuracy: 0.853 f1-score: 0.8563049853372434, max-features:4800\n",
            "Accuracy: 0.822 f1-score: 0.8227091633466137, max-features:4900\n",
            "Accuracy: 0.826 f1-score: 0.8273809523809523, max-features:4900\n",
            "Accuracy: 0.832 f1-score: 0.8346456692913385, max-features:4900\n",
            "Accuracy: 0.844 f1-score: 0.84765625, max-features:4900\n",
            "Accuracy: 0.851 f1-score: 0.8534906588003933, max-features:4900\n",
            "Accuracy: 0.849 f1-score: 0.8523949169110461, max-features:4900\n",
            "Accuracy: 0.851 f1-score: 0.8537782139352306, max-features:4900\n",
            "Accuracy: 0.822 f1-score: 0.8227091633466137, max-features:5000\n",
            "Accuracy: 0.826 f1-score: 0.8273809523809523, max-features:5000\n",
            "Accuracy: 0.832 f1-score: 0.8346456692913385, max-features:5000\n",
            "Accuracy: 0.844 f1-score: 0.84765625, max-features:5000\n",
            "Accuracy: 0.851 f1-score: 0.8534906588003933, max-features:5000\n",
            "Accuracy: 0.85 f1-score: 0.853228962818004, max-features:5000\n",
            "Accuracy: 0.848 f1-score: 0.8515625, max-features:5000\n",
            "Accuracy: 0.819 f1-score: 0.8195413758723828, max-features:5100\n",
            "Accuracy: 0.826 f1-score: 0.8273809523809523, max-features:5100\n",
            "Accuracy: 0.832 f1-score: 0.8346456692913385, max-features:5100\n",
            "Accuracy: 0.846 f1-score: 0.8493150684931507, max-features:5100\n",
            "Accuracy: 0.852 f1-score: 0.8540433925049311, max-features:5100\n",
            "Accuracy: 0.849 f1-score: 0.8523949169110461, max-features:5100\n",
            "Accuracy: 0.851 f1-score: 0.8543499511241446, max-features:5100\n",
            "Accuracy: 0.821 f1-score: 0.8218905472636816, max-features:5200\n",
            "Accuracy: 0.826 f1-score: 0.8273809523809523, max-features:5200\n",
            "Accuracy: 0.832 f1-score: 0.8346456692913385, max-features:5200\n",
            "Accuracy: 0.846 f1-score: 0.8493150684931507, max-features:5200\n",
            "Accuracy: 0.853 f1-score: 0.8551724137931035, max-features:5200\n",
            "Accuracy: 0.851 f1-score: 0.8540646425073457, max-features:5200\n",
            "Accuracy: 0.851 f1-score: 0.8540646425073457, max-features:5200\n",
            "Accuracy: 0.82 f1-score: 0.8207171314741036, max-features:5300\n",
            "Accuracy: 0.827 f1-score: 0.8282025819265144, max-features:5300\n",
            "Accuracy: 0.832 f1-score: 0.8346456692913385, max-features:5300\n",
            "Accuracy: 0.846 f1-score: 0.8493150684931507, max-features:5300\n",
            "Accuracy: 0.853 f1-score: 0.8551724137931035, max-features:5300\n",
            "Accuracy: 0.853 f1-score: 0.8563049853372434, max-features:5300\n",
            "Accuracy: 0.853 f1-score: 0.8557409224730128, max-features:5300\n",
            "Accuracy: 0.82 f1-score: 0.8207171314741036, max-features:5400\n",
            "Accuracy: 0.827 f1-score: 0.8282025819265144, max-features:5400\n",
            "Accuracy: 0.833 f1-score: 0.8354679802955666, max-features:5400\n",
            "Accuracy: 0.846 f1-score: 0.8493150684931507, max-features:5400\n",
            "Accuracy: 0.853 f1-score: 0.8551724137931035, max-features:5400\n",
            "Accuracy: 0.852 f1-score: 0.8551859099804304, max-features:5400\n",
            "Accuracy: 0.849 f1-score: 0.8523949169110461, max-features:5400\n"
          ]
        }
      ]
    },
    {
      "cell_type": "code",
      "source": [
        "print(f\"max_feature: {best_max_feature} cost: {best_cost} f1: {best_f1}\") #최적의 파라미터"
      ],
      "metadata": {
        "colab": {
          "base_uri": "https://localhost:8080/"
        },
        "id": "F4pfqdbEqJnv",
        "outputId": "c478db1e-838d-46c8-a942-5e6eef7beaef"
      },
      "execution_count": 33,
      "outputs": [
        {
          "output_type": "stream",
          "name": "stdout",
          "text": [
            "max_feature: 2900 cost: 10 f1: 0.8577036310107947\n"
          ]
        }
      ]
    },
    {
      "cell_type": "code",
      "source": [
        "vectorizer = TfidfVectorizer(analyzer='char',sublinear_tf=True, ngram_range=(1,3), max_features=best_max_feature) #전체 단어의 수는 6천개 정도 된다.\n",
        "X_train_vector = vectorizer.fit_transform(X_train)\n",
        "X_eval_vector = vectorizer.transform(X_eval)\n",
        "lgs = LogisticRegression(class_weight = 'balanced', max_iter=2000, C = best_cost)\n",
        "lgs.fit(X_train_vector, y_train)\n",
        "yhat = lgs.predict_proba(X_eval_vector)\n",
        "yhat = yhat[:,1] #1인 경우의 확률만 구해줍니다.\n",
        "predicted = lgs.predict(X_eval_vector)\n",
        "f1 = f1_score(y_eval, predicted)\n",
        "print(f\"Accuracy: {lgs.score(X_eval_vector, y_eval)}\")\n",
        "print(f\"f1-score: {f1}\")"
      ],
      "metadata": {
        "colab": {
          "base_uri": "https://localhost:8080/"
        },
        "id": "OOEdWVvpx3Sz",
        "outputId": "a4656242-86b5-4b9f-fe82-85e86e84c1b1"
      },
      "execution_count": 34,
      "outputs": [
        {
          "output_type": "stream",
          "name": "stdout",
          "text": [
            "Accuracy: 0.855\n",
            "f1-score: 0.8577036310107947\n"
          ]
        }
      ]
    },
    {
      "cell_type": "markdown",
      "source": [
        "검증셋을 활용해 최적의 threshold를 찾아보자."
      ],
      "metadata": {
        "id": "Nibqurpb5p-2"
      }
    },
    {
      "cell_type": "code",
      "source": [
        "def plot_f1_curve(fy_eval, fyhat,title):\n",
        "  precisions,recalls,thresholds = precision_recall_curve(fy_eval,fyhat)\n",
        "  plt.figure(figsize=(12,8))\n",
        "  plt.plot(recalls, precisions, marker='.', label='Logistic', color='dodgerblue')\n",
        "  f1_score_list = (2 * precisions * recalls) / (precisions + recalls)\n",
        "  max_index = np.argmax(f1_score_list)\n",
        "  #s는 마커의 사이즈 facecolor는 마크의 내부 색상 edgecolor는 마크의 테두리 색상을 의미\n",
        "  plt.scatter(recalls[max_index],precisions[max_index],marker='o',color='black',label='best',s=200,facecolors='none',edgecolors='black')\n",
        "  plt.title(title)\n",
        "  plt.xlabel('Recall')\n",
        "  plt.ylabel('Precision')\n",
        "  plt.legend()\n",
        "  print('Best Threshold=%f, F-Score=%.3f' % (thresholds[max_index], f1_score_list[max_index]))\n",
        "  return"
      ],
      "metadata": {
        "id": "FAufJCf14mGI"
      },
      "execution_count": 35,
      "outputs": []
    },
    {
      "cell_type": "code",
      "source": [
        "plot_f1_curve(y_eval, yhat,'No compressing')"
      ],
      "metadata": {
        "colab": {
          "base_uri": "https://localhost:8080/",
          "height": 528
        },
        "id": "LAvg3EWv5vxg",
        "outputId": "6067caa1-f950-4a88-9f8e-8f0e48f8ecce"
      },
      "execution_count": 36,
      "outputs": [
        {
          "output_type": "stream",
          "name": "stdout",
          "text": [
            "Best Threshold=0.476459, F-Score=0.862\n"
          ]
        },
        {
          "output_type": "display_data",
          "data": {
            "image/png": "[encoded data removed]",
            "text/plain": [
              "<Figure size 864x576 with 1 Axes>"
            ]
          },
          "metadata": {
            "needs_background": "light"
          }
        }
      ]
    },
    {
      "cell_type": "markdown",
      "source": [
        "이제 새로 찾은 threshold 값을 활용해 다시금 라벨링을 진행합니다."
      ],
      "metadata": {
        "id": "gF0DEZSX6_Z8"
      }
    },
    {
      "cell_type": "code",
      "source": [
        "threshold = 0.513917\n",
        "y_pred = np.where(yhat >= threshold,1,0)\n",
        "f1 = f1_score(y_eval,y_pred,average='binary')\n",
        "print(f\"f1:{f1}\")"
      ],
      "metadata": {
        "colab": {
          "base_uri": "https://localhost:8080/"
        },
        "id": "RHgSYp5Z8Qge",
        "outputId": "f41bf1d5-4054-4240-fd81-bbb4ac5b71f5"
      },
      "execution_count": 37,
      "outputs": [
        {
          "output_type": "stream",
          "name": "stdout",
          "text": [
            "f1:0.8579940417080436\n"
          ]
        }
      ]
    },
    {
      "cell_type": "code",
      "source": [
        "test_pre_processed = pre_process(test ,stop_words)['tokens']\n",
        "test_tokens = cleaning_tokens(test_pre_processed)\n",
        "t_pos_freq, t_neg_freq = get_freq_count(test_tokens)\n",
        "test_final_tokens = remove_doubled_words(t_pos_freq, t_neg_freq, test_tokens)\n",
        "test_final_tokens = test_final_tokens.apply(' '.join) #중복 단어를 제거한 토큰들을 문자열로 합쳐준다.\n",
        "X_test = vectorizer.transform(test_final_tokens)\n",
        "pred = lgs.predict(X_test)"
      ],
      "metadata": {
        "id": "S4H-9Kw1Imkj"
      },
      "execution_count": 38,
      "outputs": []
    },
    {
      "cell_type": "code",
      "execution_count": 39,
      "metadata": {
        "id": "3HYnacFT1kUw"
      },
      "outputs": [],
      "source": [
        "#None compressed\n",
        "res = pd.DataFrame()\n",
        "res['id'] = test['id']\n",
        "tyhat = lgs.predict_proba(X_test)\n",
        "tyhat = tyhat[:,1] #1인 경우의 확률만 구해줍니다.\n",
        "ty_pred = np.where(tyhat >= threshold,1,0)\n",
        "res['label'] = ty_pred"
      ]
    },
    {
      "cell_type": "code",
      "source": [
        "res.to_csv('result_4000.csv',index=None)\n"
      ],
      "metadata": {
        "id": "pF7XTI45O9tf"
      },
      "execution_count": 40,
      "outputs": []
    }
  ],
  "metadata": {
    "accelerator": "GPU",
    "colab": {
      "collapsed_sections": [],
      "name": "Jeong_week9.ipynb",
      "provenance": [],
      "include_colab_link": true
    },
    "interpreter": {
      "hash": "67a9d45133f1a9e4e6de0dcd9787e83ef7d08e0d5bdd34045d03563c32d8ac89"
    },
    "kernelspec": {
      "display_name": "Python 3.8.5 64-bit ('py_3.8': conda)",
      "language": "python",
      "name": "python3"
    },
    "language_info": {
      "codemirror_mode": {
        "name": "ipython",
        "version": 3
      },
      "file_extension": ".py",
      "mimetype": "text/x-python",
      "name": "python",
      "nbconvert_exporter": "python",
      "pygments_lexer": "ipython3",
      "version": "3.8.5"
    }
  },
  "nbformat": 4,
  "nbformat_minor": 0
}