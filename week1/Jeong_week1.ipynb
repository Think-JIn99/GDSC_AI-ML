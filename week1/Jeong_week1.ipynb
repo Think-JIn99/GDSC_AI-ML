{
 "cells": [
  {
   "cell_type": "code",
   "execution_count": 1,
   "source": [
    "print(\"Hello world!!\")"
   ],
   "outputs": [
    {
     "output_type": "stream",
     "name": "stdout",
     "text": [
      "Hello world!!\n"
     ]
    }
   ],
   "metadata": {}
  }
 ],
 "metadata": {
  "orig_nbformat": 4,
  "language_info": {
   "name": "python",
   "version": "3.8.5",
   "mimetype": "text/x-python",
   "codemirror_mode": {
    "name": "ipython",
    "version": 3
   },
   "pygments_lexer": "ipython3",
   "nbconvert_exporter": "python",
   "file_extension": ".py"
  },
  "kernelspec": {
   "name": "python3",
   "display_name": "Python 3.8.5 64-bit ('py_3.8': conda)"
  },
  "interpreter": {
   "hash": "4094fc05a1d24e96461f53b32b070f6b570baf6c30348ebe433e26570470c1b5"
  }
 },
 "nbformat": 4,
 "nbformat_minor": 2
}